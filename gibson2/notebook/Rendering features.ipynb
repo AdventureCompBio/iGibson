{
 "cells": [
  {
   "cell_type": "markdown",
   "id": "fe02677f",
   "metadata": {},
   "source": [
    "In this notebook we dive deeper into the iG renderer and test out different rendering features"
   ]
  },
  {
   "cell_type": "code",
   "execution_count": 4,
   "id": "522af76f",
   "metadata": {},
   "outputs": [],
   "source": [
    "from gibson2.render.mesh_renderer.mesh_renderer_settings import MeshRendererSettings\n",
    "import cv2\n",
    "import sys\n",
    "import os\n",
    "import numpy as np\n",
    "from gibson2.render.mesh_renderer.mesh_renderer_cpu import MeshRenderer\n",
    "from gibson2.utils.assets_utils import get_scene_path\n",
    "import matplotlib.pyplot as plt\n",
    "from ipywidgets import interact, interactive, fixed, interact_manual\n",
    "import ipywidgets as widgets\n",
    "from PIL import Image\n",
    "\n",
    "%matplotlib inline"
   ]
  },
  {
   "cell_type": "markdown",
   "id": "53ec0b1b",
   "metadata": {},
   "source": [
    "## PBR on"
   ]
  },
  {
   "cell_type": "code",
   "execution_count": 5,
   "id": "476f3cfa",
   "metadata": {},
   "outputs": [
    {
     "name": "stderr",
     "output_type": "stream",
     "text": [
      "INFO:root:Device 0 is available for rendering\n",
      "INFO:root:Using device 0 for rendering\n",
      "INFO:root:Loading /opt/igibson/gibson2/data/ig_dataset/objects/sink/sink_1/shape/visual/sink_1_m4_vm.obj\n",
      "INFO:root:Loading /opt/igibson/gibson2/data/ig_dataset/objects/sink/sink_1/shape/visual/sink_1_m6_vm.obj\n",
      "INFO:root:Loading /opt/igibson/gibson2/data/ig_dataset/objects/sink/sink_1/shape/visual/sink_1_m1_vm.obj\n",
      "INFO:root:Loading /opt/igibson/gibson2/data/ig_dataset/objects/sink/sink_1/shape/visual/sink_1_m2_vm.obj\n",
      "INFO:root:Loading /opt/igibson/gibson2/data/ig_dataset/objects/sink/sink_1/shape/visual/sink_1_m3_vm.obj\n"
     ]
    },
    {
     "name": "stdout",
     "output_type": "stream",
     "text": [
      "[Object(0)->VAO([0]), Object(1)->VAO([1]), Object(2)->VAO([2]), Object(3)->VAO([3]), Object(4)->VAO([4])] [Instance(0) -> Object(0), Instance(1) -> Object(1), Instance(2) -> Object(2), Instance(3) -> Object(3), Instance(4) -> Object(4)]\n",
      "{0: Material(material_type: texture, texture_id: 22, metallic_texture_id:23, roughness_texture_id:24, normal_texture_id:25, color: [0.5, 0.5, 0.5]), 1: Material(material_type: color, texture_id: -1, metallic_texture_id:None, roughness_texture_id:None, normal_texture_id:None, color: [0.5, 0.5, 0.5]), 2: Material(material_type: texture, texture_id: 22, metallic_texture_id:23, roughness_texture_id:24, normal_texture_id:25, color: [0.5, 0.5, 0.5]), 3: Material(material_type: color, texture_id: -1, metallic_texture_id:None, roughness_texture_id:None, normal_texture_id:None, color: [0.5, 0.5, 0.5]), 4: Material(material_type: texture, texture_id: 22, metallic_texture_id:23, roughness_texture_id:24, normal_texture_id:25, color: [0.5, 0.5, 0.5]), 5: Material(material_type: color, texture_id: -1, metallic_texture_id:None, roughness_texture_id:None, normal_texture_id:None, color: [0.5, 0.5, 0.5]), 6: Material(material_type: texture, texture_id: 22, metallic_texture_id:23, roughness_texture_id:24, normal_texture_id:25, color: [0.5, 0.5, 0.5]), 7: Material(material_type: color, texture_id: -1, metallic_texture_id:None, roughness_texture_id:None, normal_texture_id:None, color: [0.5, 0.5, 0.5]), 8: Material(material_type: texture, texture_id: 22, metallic_texture_id:23, roughness_texture_id:24, normal_texture_id:25, color: [0.5, 0.5, 0.5]), 9: Material(material_type: color, texture_id: -1, metallic_texture_id:None, roughness_texture_id:None, normal_texture_id:None, color: [0.5, 0.5, 0.5])} [0, 2, 4, 6, 8]\n"
     ]
    },
    {
     "data": {
      "application/vnd.jupyter.widget-view+json": {
       "model_id": "0ad40cccfbc44980aa13850690edfd79",
       "version_major": 2,
       "version_minor": 0
      },
      "text/plain": [
       "interactive(children=(FloatSlider(value=0.0, description='x', max=2.0, min=-2.0), FloatSlider(value=0.0, descr…"
      ]
     },
     "metadata": {},
     "output_type": "display_data"
    }
   ],
   "source": [
    "settings = MeshRendererSettings(msaa=True, enable_shadow=True)\n",
    "renderer = MeshRenderer(width=512, height=512,  vertical_fov=70, rendering_settings=settings)\n",
    "renderer.set_light_position_direction([0,0,10], [0,0,0])\n",
    "\n",
    "i = 0\n",
    "\n",
    "model_path = '/opt/igibson/gibson2/data/ig_dataset/objects/sink/sink_1/shape/visual'\n",
    "\n",
    "for fn in os.listdir(model_path):\n",
    "    if fn.endswith('obj'):\n",
    "        renderer.load_object(os.path.join(model_path, fn), scale=[1, 1, 1])\n",
    "        renderer.add_instance(i)\n",
    "        i += 1\n",
    "\n",
    "print(renderer.visual_objects, renderer.instances)\n",
    "print(renderer.materials_mapping, renderer.mesh_materials)\n",
    "\n",
    "def show_camera_image(x,y,z):\n",
    "    camera_pose = np.array([x,y,z])\n",
    "    view_direction = np.array([-x, -y, -z])\n",
    "    renderer.set_camera(camera_pose, camera_pose + view_direction, [0, 0, 1])\n",
    "    renderer.set_fov(70)\n",
    "    frames = renderer.render(modes=('rgb'))\n",
    "    display(Image.fromarray(((frames[0][:,:,:3] * 255).astype(np.uint8))))\n",
    "    #plt.figure()\n",
    "    #plt.imshow((frames[0][:,:,:3] * 255).astype(np.uint8))\n",
    "\n",
    "interactive_plot = interactive(show_camera_image, x=(-2.0, 2.0), y=(-2.0, 2.0), z=(-2.0, 2.0))\n",
    "output = interactive_plot.children[-1]\n",
    "output.layout.height = '512px'\n",
    "interactive_plot\n"
   ]
  },
  {
   "cell_type": "markdown",
   "id": "5b2d3cd0",
   "metadata": {},
   "source": [
    "## PBR off"
   ]
  },
  {
   "cell_type": "code",
   "execution_count": 6,
   "id": "c0d9dd84",
   "metadata": {},
   "outputs": [
    {
     "name": "stderr",
     "output_type": "stream",
     "text": [
      "INFO:root:Device 0 is available for rendering\n",
      "INFO:root:Using device 0 for rendering\n",
      "INFO:root:Loading /opt/igibson/gibson2/data/ig_dataset/objects/sink/sink_1/shape/visual/sink_1_m4_vm.obj\n",
      "INFO:root:Loading /opt/igibson/gibson2/data/ig_dataset/objects/sink/sink_1/shape/visual/sink_1_m6_vm.obj\n",
      "INFO:root:Loading /opt/igibson/gibson2/data/ig_dataset/objects/sink/sink_1/shape/visual/sink_1_m1_vm.obj\n",
      "INFO:root:Loading /opt/igibson/gibson2/data/ig_dataset/objects/sink/sink_1/shape/visual/sink_1_m2_vm.obj\n",
      "INFO:root:Loading /opt/igibson/gibson2/data/ig_dataset/objects/sink/sink_1/shape/visual/sink_1_m3_vm.obj\n"
     ]
    },
    {
     "name": "stdout",
     "output_type": "stream",
     "text": [
      "[Object(0)->VAO([0]), Object(1)->VAO([1]), Object(2)->VAO([2]), Object(3)->VAO([3]), Object(4)->VAO([4])] [Instance(0) -> Object(0), Instance(1) -> Object(1), Instance(2) -> Object(2), Instance(3) -> Object(3), Instance(4) -> Object(4)]\n",
      "{0: Material(material_type: texture, texture_id: 16, metallic_texture_id:17, roughness_texture_id:18, normal_texture_id:19, color: [0.5, 0.5, 0.5]), 1: Material(material_type: color, texture_id: -1, metallic_texture_id:None, roughness_texture_id:None, normal_texture_id:None, color: [0.5, 0.5, 0.5]), 2: Material(material_type: texture, texture_id: 16, metallic_texture_id:17, roughness_texture_id:18, normal_texture_id:19, color: [0.5, 0.5, 0.5]), 3: Material(material_type: color, texture_id: -1, metallic_texture_id:None, roughness_texture_id:None, normal_texture_id:None, color: [0.5, 0.5, 0.5]), 4: Material(material_type: texture, texture_id: 16, metallic_texture_id:17, roughness_texture_id:18, normal_texture_id:19, color: [0.5, 0.5, 0.5]), 5: Material(material_type: color, texture_id: -1, metallic_texture_id:None, roughness_texture_id:None, normal_texture_id:None, color: [0.5, 0.5, 0.5]), 6: Material(material_type: texture, texture_id: 16, metallic_texture_id:17, roughness_texture_id:18, normal_texture_id:19, color: [0.5, 0.5, 0.5]), 7: Material(material_type: color, texture_id: -1, metallic_texture_id:None, roughness_texture_id:None, normal_texture_id:None, color: [0.5, 0.5, 0.5]), 8: Material(material_type: texture, texture_id: 16, metallic_texture_id:17, roughness_texture_id:18, normal_texture_id:19, color: [0.5, 0.5, 0.5]), 9: Material(material_type: color, texture_id: -1, metallic_texture_id:None, roughness_texture_id:None, normal_texture_id:None, color: [0.5, 0.5, 0.5])} [0, 2, 4, 6, 8]\n"
     ]
    },
    {
     "data": {
      "application/vnd.jupyter.widget-view+json": {
       "model_id": "e483bb884fc748bb8d0a568103451f25",
       "version_major": 2,
       "version_minor": 0
      },
      "text/plain": [
       "interactive(children=(FloatSlider(value=0.0, description='x', max=2.0, min=-2.0), FloatSlider(value=0.0, descr…"
      ]
     },
     "metadata": {},
     "output_type": "display_data"
    }
   ],
   "source": [
    "settings = MeshRendererSettings(msaa=True, enable_shadow=True, enable_pbr=False)\n",
    "renderer = MeshRenderer(width=512, height=512,  vertical_fov=70, rendering_settings=settings)\n",
    "renderer.set_light_position_direction([0,0,10], [0,0,0])\n",
    "\n",
    "i = 0\n",
    "\n",
    "model_path = '/opt/igibson/gibson2/data/ig_dataset/objects/sink/sink_1/shape/visual'\n",
    "\n",
    "for fn in os.listdir(model_path):\n",
    "    if fn.endswith('obj'):\n",
    "        renderer.load_object(os.path.join(model_path, fn), scale=[1, 1, 1])\n",
    "        renderer.add_instance(i)\n",
    "        i += 1\n",
    "\n",
    "print(renderer.visual_objects, renderer.instances)\n",
    "print(renderer.materials_mapping, renderer.mesh_materials)\n",
    "\n",
    "def show_camera_image(x,y,z):\n",
    "    camera_pose = np.array([x,y,z])\n",
    "    view_direction = np.array([-x, -y, -z])\n",
    "    renderer.set_camera(camera_pose, camera_pose + view_direction, [0, 0, 1])\n",
    "    renderer.set_fov(70)\n",
    "    frames = renderer.render(modes=('rgb'))\n",
    "    display(Image.fromarray(((frames[0][:,:,:3] * 255).astype(np.uint8))))\n",
    "    #plt.figure()\n",
    "    #plt.imshow((frames[0][:,:,:3] * 255).astype(np.uint8))\n",
    "\n",
    "interactive_plot = interactive(show_camera_image, x=(-2.0, 2.0), y=(-2.0, 2.0), z=(-2.0, 2.0))\n",
    "output = interactive_plot.children[-1]\n",
    "output.layout.height = '512px'\n",
    "interactive_plot\n"
   ]
  },
  {
   "cell_type": "markdown",
   "id": "1b4a4331",
   "metadata": {},
   "source": [
    "## Shadows off"
   ]
  },
  {
   "cell_type": "code",
   "execution_count": 7,
   "id": "33ce9194",
   "metadata": {},
   "outputs": [
    {
     "name": "stderr",
     "output_type": "stream",
     "text": [
      "INFO:root:Device 0 is available for rendering\n",
      "INFO:root:Using device 0 for rendering\n",
      "INFO:root:Loading /opt/igibson/gibson2/data/ig_dataset/objects/sink/sink_1/shape/visual/sink_1_m4_vm.obj\n",
      "INFO:root:Loading /opt/igibson/gibson2/data/ig_dataset/objects/sink/sink_1/shape/visual/sink_1_m6_vm.obj\n",
      "INFO:root:Loading /opt/igibson/gibson2/data/ig_dataset/objects/sink/sink_1/shape/visual/sink_1_m1_vm.obj\n",
      "INFO:root:Loading /opt/igibson/gibson2/data/ig_dataset/objects/sink/sink_1/shape/visual/sink_1_m2_vm.obj\n",
      "INFO:root:Loading /opt/igibson/gibson2/data/ig_dataset/objects/sink/sink_1/shape/visual/sink_1_m3_vm.obj\n"
     ]
    },
    {
     "name": "stdout",
     "output_type": "stream",
     "text": [
      "[Object(0)->VAO([0]), Object(1)->VAO([1]), Object(2)->VAO([2]), Object(3)->VAO([3]), Object(4)->VAO([4])] [Instance(0) -> Object(0), Instance(1) -> Object(1), Instance(2) -> Object(2), Instance(3) -> Object(3), Instance(4) -> Object(4)]\n",
      "{0: Material(material_type: texture, texture_id: 16, metallic_texture_id:17, roughness_texture_id:18, normal_texture_id:19, color: [0.5, 0.5, 0.5]), 1: Material(material_type: color, texture_id: -1, metallic_texture_id:None, roughness_texture_id:None, normal_texture_id:None, color: [0.5, 0.5, 0.5]), 2: Material(material_type: texture, texture_id: 16, metallic_texture_id:17, roughness_texture_id:18, normal_texture_id:19, color: [0.5, 0.5, 0.5]), 3: Material(material_type: color, texture_id: -1, metallic_texture_id:None, roughness_texture_id:None, normal_texture_id:None, color: [0.5, 0.5, 0.5]), 4: Material(material_type: texture, texture_id: 16, metallic_texture_id:17, roughness_texture_id:18, normal_texture_id:19, color: [0.5, 0.5, 0.5]), 5: Material(material_type: color, texture_id: -1, metallic_texture_id:None, roughness_texture_id:None, normal_texture_id:None, color: [0.5, 0.5, 0.5]), 6: Material(material_type: texture, texture_id: 16, metallic_texture_id:17, roughness_texture_id:18, normal_texture_id:19, color: [0.5, 0.5, 0.5]), 7: Material(material_type: color, texture_id: -1, metallic_texture_id:None, roughness_texture_id:None, normal_texture_id:None, color: [0.5, 0.5, 0.5]), 8: Material(material_type: texture, texture_id: 16, metallic_texture_id:17, roughness_texture_id:18, normal_texture_id:19, color: [0.5, 0.5, 0.5]), 9: Material(material_type: color, texture_id: -1, metallic_texture_id:None, roughness_texture_id:None, normal_texture_id:None, color: [0.5, 0.5, 0.5])} [0, 2, 4, 6, 8]\n"
     ]
    },
    {
     "data": {
      "application/vnd.jupyter.widget-view+json": {
       "model_id": "0902e685033f4b7283ba3e4de1fcdc1d",
       "version_major": 2,
       "version_minor": 0
      },
      "text/plain": [
       "interactive(children=(FloatSlider(value=0.0, description='x', max=2.0, min=-2.0), FloatSlider(value=0.0, descr…"
      ]
     },
     "metadata": {},
     "output_type": "display_data"
    }
   ],
   "source": [
    "settings = MeshRendererSettings(msaa=True, enable_shadow=False, enable_pbr=False)\n",
    "renderer = MeshRenderer(width=512, height=512,  vertical_fov=70, rendering_settings=settings)\n",
    "renderer.set_light_position_direction([0,0,10], [0,0,0])\n",
    "\n",
    "i = 0\n",
    "\n",
    "model_path = '/opt/igibson/gibson2/data/ig_dataset/objects/sink/sink_1/shape/visual'\n",
    "\n",
    "for fn in os.listdir(model_path):\n",
    "    if fn.endswith('obj'):\n",
    "        renderer.load_object(os.path.join(model_path, fn), scale=[1, 1, 1])\n",
    "        renderer.add_instance(i)\n",
    "        i += 1\n",
    "\n",
    "print(renderer.visual_objects, renderer.instances)\n",
    "print(renderer.materials_mapping, renderer.mesh_materials)\n",
    "\n",
    "def show_camera_image(x,y,z):\n",
    "    camera_pose = np.array([x,y,z])\n",
    "    view_direction = np.array([-x, -y, -z])\n",
    "    renderer.set_camera(camera_pose, camera_pose + view_direction, [0, 0, 1])\n",
    "    renderer.set_fov(70)\n",
    "    frames = renderer.render(modes=('rgb'))\n",
    "    display(Image.fromarray(((frames[0][:,:,:3] * 255).astype(np.uint8))))\n",
    "    #plt.figure()\n",
    "    #plt.imshow((frames[0][:,:,:3] * 255).astype(np.uint8))\n",
    "\n",
    "interactive_plot = interactive(show_camera_image, x=(-2.0, 2.0), y=(-2.0, 2.0), z=(-2.0, 2.0))\n",
    "output = interactive_plot.children[-1]\n",
    "output.layout.height = '512px'\n",
    "interactive_plot\n"
   ]
  },
  {
   "cell_type": "markdown",
   "id": "01b26808",
   "metadata": {},
   "source": [
    "## Optimized Renderer"
   ]
  },
  {
   "cell_type": "code",
   "execution_count": 9,
   "id": "66932c12",
   "metadata": {},
   "outputs": [
    {
     "name": "stderr",
     "output_type": "stream",
     "text": [
      "INFO:root:Device 0 is available for rendering\n",
      "INFO:root:Using device 0 for rendering\n",
      "INFO:root:Loading /opt/igibson/gibson2/data/ig_dataset/objects/sink/sink_1/shape/visual/sink_1_m4_vm.obj\n",
      "INFO:root:Loading /opt/igibson/gibson2/data/ig_dataset/objects/sink/sink_1/shape/visual/sink_1_m6_vm.obj\n",
      "INFO:root:Loading /opt/igibson/gibson2/data/ig_dataset/objects/sink/sink_1/shape/visual/sink_1_m1_vm.obj\n",
      "INFO:root:Loading /opt/igibson/gibson2/data/ig_dataset/objects/sink/sink_1/shape/visual/sink_1_m2_vm.obj\n",
      "INFO:root:Loading /opt/igibson/gibson2/data/ig_dataset/objects/sink/sink_1/shape/visual/sink_1_m3_vm.obj\n"
     ]
    },
    {
     "name": "stdout",
     "output_type": "stream",
     "text": [
      "[Object(0)->VAO([0]), Object(1)->VAO([1]), Object(2)->VAO([2]), Object(3)->VAO([3]), Object(4)->VAO([4])] [Instance(0) -> Object(0), Instance(1) -> Object(1), Instance(2) -> Object(2), Instance(3) -> Object(3), Instance(4) -> Object(4)]\n",
      "{0: Material(material_type: texture, texture_id: 0, metallic_texture_id:1, roughness_texture_id:2, normal_texture_id:3, color: [0.5, 0.5, 0.5]), 1: Material(material_type: color, texture_id: -1, metallic_texture_id:None, roughness_texture_id:None, normal_texture_id:None, color: [0.5, 0.5, 0.5]), 2: Material(material_type: texture, texture_id: 0, metallic_texture_id:1, roughness_texture_id:2, normal_texture_id:3, color: [0.5, 0.5, 0.5]), 3: Material(material_type: color, texture_id: -1, metallic_texture_id:None, roughness_texture_id:None, normal_texture_id:None, color: [0.5, 0.5, 0.5]), 4: Material(material_type: texture, texture_id: 0, metallic_texture_id:1, roughness_texture_id:2, normal_texture_id:3, color: [0.5, 0.5, 0.5]), 5: Material(material_type: color, texture_id: -1, metallic_texture_id:None, roughness_texture_id:None, normal_texture_id:None, color: [0.5, 0.5, 0.5]), 6: Material(material_type: texture, texture_id: 0, metallic_texture_id:1, roughness_texture_id:2, normal_texture_id:3, color: [0.5, 0.5, 0.5]), 7: Material(material_type: color, texture_id: -1, metallic_texture_id:None, roughness_texture_id:None, normal_texture_id:None, color: [0.5, 0.5, 0.5]), 8: Material(material_type: texture, texture_id: 0, metallic_texture_id:1, roughness_texture_id:2, normal_texture_id:3, color: [0.5, 0.5, 0.5]), 9: Material(material_type: color, texture_id: -1, metallic_texture_id:None, roughness_texture_id:None, normal_texture_id:None, color: [0.5, 0.5, 0.5])} [0, 2, 4, 6, 8]\n"
     ]
    },
    {
     "data": {
      "application/vnd.jupyter.widget-view+json": {
       "model_id": "ad6ded051e564ab8b974f723b8aa8d26",
       "version_major": 2,
       "version_minor": 0
      },
      "text/plain": [
       "interactive(children=(FloatSlider(value=0.0, description='x', max=2.0, min=-2.0), FloatSlider(value=0.0, descr…"
      ]
     },
     "metadata": {},
     "output_type": "display_data"
    }
   ],
   "source": [
    "settings = MeshRendererSettings(msaa=True, enable_shadow=True, optimized=True)\n",
    "renderer = MeshRenderer(width=512, height=512,  vertical_fov=70, rendering_settings=settings)\n",
    "renderer.set_light_position_direction([0,0,10], [0,0,0])\n",
    "\n",
    "i = 0\n",
    "\n",
    "model_path = '/opt/igibson/gibson2/data/ig_dataset/objects/sink/sink_1/shape/visual'\n",
    "\n",
    "for fn in os.listdir(model_path):\n",
    "    if fn.endswith('obj'):\n",
    "        renderer.load_object(os.path.join(model_path, fn), scale=[1, 1, 1])\n",
    "        renderer.add_instance(i)\n",
    "        i += 1\n",
    "\n",
    "print(renderer.visual_objects, renderer.instances)\n",
    "print(renderer.materials_mapping, renderer.mesh_materials)\n",
    "\n",
    "def show_camera_image(x,y,z):\n",
    "    camera_pose = np.array([x,y,z])\n",
    "    view_direction = np.array([-x, -y, -z])\n",
    "    renderer.set_camera(camera_pose, camera_pose + view_direction, [0, 0, 1])\n",
    "    renderer.set_fov(70)\n",
    "    frames = renderer.render(modes=('rgb'))\n",
    "    display(Image.fromarray(((frames[0][:,:,:3] * 255).astype(np.uint8))))\n",
    "    #plt.figure()\n",
    "    #plt.imshow((frames[0][:,:,:3] * 255).astype(np.uint8))\n",
    "\n",
    "interactive_plot = interactive(show_camera_image, x=(-2.0, 2.0), y=(-2.0, 2.0), z=(-2.0, 2.0))\n",
    "output = interactive_plot.children[-1]\n",
    "output.layout.height = '512px'\n",
    "interactive_plot\n"
   ]
  },
  {
   "cell_type": "code",
   "execution_count": null,
   "id": "e7d283db",
   "metadata": {},
   "outputs": [],
   "source": []
  }
 ],
 "metadata": {
  "kernelspec": {
   "display_name": "Python 3",
   "language": "python",
   "name": "python3"
  },
  "language_info": {
   "codemirror_mode": {
    "name": "ipython",
    "version": 3
   },
   "file_extension": ".py",
   "mimetype": "text/x-python",
   "name": "python",
   "nbconvert_exporter": "python",
   "pygments_lexer": "ipython3",
   "version": "3.6.8"
  }
 },
 "nbformat": 4,
 "nbformat_minor": 5
}
