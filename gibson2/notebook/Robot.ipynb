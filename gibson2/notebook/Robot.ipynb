{
 "cells": [
  {
   "cell_type": "markdown",
   "id": "40b3d257",
   "metadata": {},
   "source": [
    "# Robots\n",
    "\n",
    "### Overview\n",
    "We provide a wide variety of **Robots** that can be imported into the **Simulator**.\n",
    "\n",
    "| Agent Name     | DOF | Information      | Controller |\n",
    "|:-------------: | :-------------: |:-------------: |:-------------|\n",
    "| Mujoco Ant      | 8     | [OpenAI Link](https://blog.openai.com/roboschool/) | Torque |\n",
    "| Mujoco Humanoid | 17    | [OpenAI Link](https://blog.openai.com/roboschool/) | Torque |\n",
    "| Husky Robot     | 4     | [ROS](http://wiki.ros.org/Robots/Husky), [Manufacturer](https://www.clearpathrobotics.com/) | Torque, Velocity, Position |\n",
    "| Minitaur Robot  | 8     | [Robot Page](https://www.ghostrobotics.io/copy-of-robots), [Manufacturer](https://www.ghostrobotics.io/) | Sine Controller |\n",
    "| Quadrotor       | 6     | [Paper](https://repository.upenn.edu/cgi/viewcontent.cgi?referer=https://www.google.com/&httpsredir=1&article=1705&context=edissertations) | Torque |\n",
    "| TurtleBot       | 2     | [ROS](http://wiki.ros.org/Robots/TurtleBot), [Manufacturer](https://www.turtlebot.com/) | Torque, Velocity, Position, Differential Drive |\n",
    "| Freight         | 2     | [Fetch Robotics Link](https://fetchrobotics.com/robotics-platforms/freight-base/) | Torque, Velocity, Position, Differential Drive|\n",
    "| Fetch           | 10    | [Fetch Robotics Link](https://fetchrobotics.com/robotics-platforms/freight-base/) | Torque, Velocity, Position, Differential Drive |\n",
    "| JackRabbot      | 2 & 7 | [Stanford Project Link](http://cvgl.stanford.edu/projects/jackrabbot/) | Torque, Velocity, Position, Differential Drive |\n",
    "| LocoBot         | 2     | [ROS](http://wiki.ros.org/locobot), [Manufacturer](https://www.trossenrobotics.com/locobot-pyrobot-ros-rover.aspx) | Torque, Velocity, Position, Differential Drive |\n",
    "\n",
    "Typically, these robot classes take in the URDF file or MuJoCo XML file of an robot (in `gibson2.assets_path`) and provide a `load` function that be invoked externally (usually by `import_robot` of `Simulator`). The `load` function imports the robot into PyBullet.\n",
    "\n",
    "All robot clases inherit `LocomotorRobot`. Some useful functions are worth pointing out:\n",
    "- `{get/set}_{position/orientation/rpy/linear_velocity/angular_velocity}`: get and set the physical states of the robot base\n",
    "- `apply_robot_action`: set motor control for each of the controllable joints. It currently supports four modes of control: joint torque, velocity, position, and differential drive for two-wheeled robots\n",
    "- `calc_state`: compute robot states that might be useful for external applications\n",
    "- `robot_specific_reset`: reset the robot joint states to their default value, particularly useful for mobile manipulators. For instance, `Fetch.robot_specific_reset()` will reset the robot to be something like this:\n",
    "\n",
    "![fetch.png](https://robots.ieee.org/robots/fetch/Photos/SD/fetch-photo1-full.jpg)\n",
    "\n",
    "Here are some details about how we perform motor control for robots:\n",
    "- Say the robot uses joint velocity control `self.control == 'velocity'`\n",
    "- We assume the external user (say an RL agent) will call `apply_action` with `policy_action` that is always between `-1` and `1`.\n",
    "- `policy_action` will be scaled to `robot_action` by `policy_action_to_robot_action` based on the action space. The action space is set by `config['velocity']` in the YAML config file\n",
    "- `robot_action` will be applied by `apply_robot_action`, which internally executes the following:\n",
    "```python\n",
    "def apply_robot_action(action):\n",
    "    for n, j in enumerate(self.ordered_joints):\n",
    "        j.set_motor_velocity(self.velocity_coef * j.max_velocity * float(np.clip(action[n], -1, +1)))\n",
    "```\n",
    "Note that `robot_action` is a normalized joint velocity, i.e. `robot_action[n] == 1.0` means executing the maximum joint velocity for the nth joint. The limits of joint position, velocity and torque are extracted from the URDF file of the robot.\n",
    "\n",
    "Most of the code can be found here: [gibson2/robots](https://github.com/StanfordVL/iGibson/blob/master/gibson2/robots).\n"
   ]
  },
  {
   "cell_type": "markdown",
   "id": "d4f3ca71",
   "metadata": {},
   "source": [
    "## Examples"
   ]
  },
  {
   "cell_type": "markdown",
   "id": "d0417064",
   "metadata": {},
   "source": [
    "## Turtlebot\n",
    "\n",
    "Control the velocity of turtlebot"
   ]
  },
  {
   "cell_type": "code",
   "execution_count": 1,
   "id": "b8c6326b",
   "metadata": {},
   "outputs": [
    {
     "name": "stderr",
     "output_type": "stream",
     "text": [
      "INFO:root:Importing iGibson (gibson2 module)\n",
      "INFO:root:Assets path: /opt/igibson/gibson2/data/assets\n",
      "INFO:root:Gibson Dataset path: /opt/igibson/gibson2/data/g_dataset\n",
      "INFO:root:iG Dataset path: /opt/igibson/gibson2/data/ig_dataset\n",
      "INFO:root:3D-FRONT Dataset path: /opt/igibson/gibson2/data/threedfront_dataset\n",
      "INFO:root:CubiCasa5K Dataset path: /opt/igibson/gibson2/data/cubicasa_dataset\n",
      "INFO:root:Example path: /opt/igibson/gibson2/examples\n",
      "INFO:root:Example config path: /opt/igibson/gibson2/examples/configs\n"
     ]
    },
    {
     "name": "stdout",
     "output_type": "stream",
     "text": [
      "torch is not available, falling back to rendering to memory(instead of tensor)\n"
     ]
    }
   ],
   "source": [
    "from gibson2.robots.turtlebot_robot import Turtlebot\n",
    "from gibson2.simulator import Simulator\n",
    "from gibson2.scenes.gibson_indoor_scene import StaticIndoorScene\n",
    "from gibson2.objects.ycb_object import YCBObject\n",
    "from gibson2.utils.utils import parse_config\n",
    "from gibson2.render.mesh_renderer.mesh_renderer_settings import MeshRendererSettings\n",
    "import numpy as np\n",
    "from gibson2.render.profiler import Profiler\n",
    "import gibson2\n",
    "import os\n",
    "import matplotlib.pyplot as plt\n",
    "from ipywidgets import interact, interactive, fixed, interact_manual\n",
    "import ipywidgets as widgets"
   ]
  },
  {
   "cell_type": "code",
   "execution_count": 15,
   "id": "3060960f",
   "metadata": {},
   "outputs": [
    {
     "name": "stderr",
     "output_type": "stream",
     "text": [
      "INFO:root:Device 0 is available for rendering\n",
      "INFO:root:Using device 0 for rendering\n",
      "INFO:root:IndoorScene model: Rs\n",
      "INFO:root:StaticIndoorScene scene: Rs\n"
     ]
    },
    {
     "name": "stdout",
     "output_type": "stream",
     "text": [
      "******************PyBullet Logging Information:\n",
      "PyBullet Logging Information******************\n"
     ]
    },
    {
     "name": "stderr",
     "output_type": "stream",
     "text": [
      "INFO:root:Loading traversable graph\n",
      "INFO:root:Loading /opt/igibson/gibson2/data/g_dataset/Rs/mesh_z_up.obj\n",
      "INFO:root:Loading robot model file: turtlebot/turtlebot.urdf\n",
      "INFO:root:Loading /opt/igibson/gibson2/data/assets/models/turtlebot/kobuki_description/meshes/main_body.obj\n",
      "INFO:root:Loading /opt/igibson/gibson2/data/assets/models/mjcf_primitives/cube.obj\n",
      "INFO:root:Loading /opt/igibson/gibson2/data/assets/models/turtlebot/kobuki_description/meshes/wheel.obj\n",
      "INFO:root:Loading /opt/igibson/gibson2/data/assets/models/mjcf_primitives/cube.obj\n",
      "INFO:root:Loading /opt/igibson/gibson2/data/assets/models/mjcf_primitives/cube.obj\n",
      "INFO:root:Loading /opt/igibson/gibson2/data/assets/models/turtlebot/turtlebot_description/meshes/stacks/hexagons/pole_bottom.obj\n",
      "INFO:root:Loading /opt/igibson/gibson2/data/assets/models/turtlebot/turtlebot_description/meshes/stacks/hexagons/plate_bottom.obj\n",
      "INFO:root:Loading /opt/igibson/gibson2/data/assets/models/turtlebot/turtlebot_description/meshes/stacks/hexagons/pole_middle.obj\n",
      "INFO:root:Loading /opt/igibson/gibson2/data/assets/models/turtlebot/turtlebot_description/meshes/stacks/hexagons/plate_middle.obj\n",
      "INFO:root:Loading /opt/igibson/gibson2/data/assets/models/turtlebot/turtlebot_description/meshes/stacks/hexagons/pole_top.obj\n",
      "INFO:root:Loading /opt/igibson/gibson2/data/assets/models/turtlebot/turtlebot_description/meshes/stacks/hexagons/pole_kinect.obj\n",
      "INFO:root:Loading /opt/igibson/gibson2/data/assets/models/turtlebot/turtlebot_description/meshes/stacks/hexagons/plate_top.obj\n",
      "INFO:root:Loading /opt/igibson/gibson2/data/assets/models/turtlebot/turtlebot_description/meshes/sensors/kinect.obj\n"
     ]
    },
    {
     "name": "stdout",
     "output_type": "stream",
     "text": [
      "[Instance(0) -> Object(0), Robot(1) -> Objects(1,2,3,3,4,5,6,6,6,6,6,6,7,8,8,8,8,9,10,10,10,10,11,11,12,13)]\n"
     ]
    }
   ],
   "source": [
    "config = parse_config(os.path.join(gibson2.example_config_path, 'turtlebot_demo.yaml'))\n",
    "settings = MeshRendererSettings(enable_shadow=False, msaa=False)\n",
    "s = Simulator(mode='headless', image_width=256,\n",
    "              image_height=256, rendering_settings=settings)\n",
    "\n",
    "scene = StaticIndoorScene('Rs',\n",
    "                          build_graph=True,\n",
    "                          pybullet_load_texture=True)\n",
    "s.import_scene(scene)\n",
    "turtlebot = Turtlebot(config)\n",
    "s.import_robot(turtlebot)\n",
    "\n",
    "turtlebot.set_position([0,0,0.1])\n",
    "\n",
    "for i in range(100):\n",
    "    s.step()\n",
    "print(s.renderer.instances)\n"
   ]
  },
  {
   "cell_type": "code",
   "execution_count": 19,
   "id": "657a2897",
   "metadata": {
    "scrolled": true
   },
   "outputs": [
    {
     "data": {
      "application/vnd.jupyter.widget-view+json": {
       "model_id": "4616e2b22704473a908c99472e1a99aa",
       "version_major": 2,
       "version_minor": 0
      },
      "text/plain": [
       "interactive(children=(FloatSlider(value=0.0, description='v_left', max=1.0, min=-1.0), FloatSlider(value=0.0, …"
      ]
     },
     "metadata": {},
     "output_type": "display_data"
    },
    {
     "data": {
      "text/plain": [
       "<function __main__.show_camera_image(v_left, v_right)>"
      ]
     },
     "execution_count": 19,
     "metadata": {},
     "output_type": "execute_result"
    }
   ],
   "source": [
    "def show_camera_image(v_left, v_right):\n",
    "    turtlebot.apply_action([v_left, v_right])\n",
    "    for i in range(5):\n",
    "        s.step()\n",
    "    camera_pose = np.array([0.5, 0.5, 0.5]) + turtlebot.get_position()\n",
    "    view_direction = np.array([-1, -1, -1])\n",
    "    s.renderer.set_camera(camera_pose, camera_pose + view_direction, [0, 0, 1])\n",
    "    frames = s.renderer.render(modes=('rgb'))[0]\n",
    "    plt.imshow((frames[:,:,:3] * 255).astype(np.uint8))\n",
    "    \n",
    "interactive_plot = interact_manual(show_camera_image, v_left = (-1.0, 1.0), v_right = (-1.0, 1.0))\n",
    "interactive_plot    "
   ]
  },
  {
   "cell_type": "markdown",
   "id": "87a26717",
   "metadata": {},
   "source": [
    "## Fetch \n",
    "Control the base and arm of Fetch"
   ]
  },
  {
   "cell_type": "code",
   "execution_count": null,
   "id": "f525cde7",
   "metadata": {},
   "outputs": [
    {
     "name": "stderr",
     "output_type": "stream",
     "text": [
      "INFO:root:Device 0 is available for rendering\n",
      "INFO:root:Using device 0 for rendering\n",
      "INFO:root:IndoorScene model: Rs\n",
      "INFO:root:StaticIndoorScene scene: Rs\n"
     ]
    },
    {
     "name": "stdout",
     "output_type": "stream",
     "text": [
      "******************PyBullet Logging Information:\n",
      "PyBullet Logging Information******************\n"
     ]
    },
    {
     "name": "stderr",
     "output_type": "stream",
     "text": [
      "INFO:root:Loading traversable graph\n",
      "INFO:root:Loading /opt/igibson/gibson2/data/g_dataset/Rs/mesh_z_up.obj\n",
      "INFO:root:Loading robot model file: fetch/fetch.urdf\n",
      "INFO:root:Loading /opt/igibson/gibson2/data/assets/models/fetch/meshes/base_link.obj\n",
      "INFO:root:Loading /opt/igibson/gibson2/data/assets/models/fetch/meshes/r_wheel_link.obj\n",
      "INFO:root:Loading /opt/igibson/gibson2/data/assets/models/fetch/meshes/l_wheel_link.obj\n",
      "INFO:root:Loading /opt/igibson/gibson2/data/assets/models/fetch/meshes/torso_lift_link.obj\n",
      "INFO:root:Loading /opt/igibson/gibson2/data/assets/models/fetch/meshes/head_pan_link.obj\n",
      "INFO:root:Loading /opt/igibson/gibson2/data/assets/models/fetch/meshes/head_tilt_link.obj\n",
      "INFO:root:Loading /opt/igibson/gibson2/data/assets/models/fetch/meshes/shoulder_pan_link.obj\n",
      "INFO:root:Loading /opt/igibson/gibson2/data/assets/models/fetch/meshes/shoulder_lift_link.obj\n",
      "INFO:root:Loading /opt/igibson/gibson2/data/assets/models/fetch/meshes/upperarm_roll_link.obj\n",
      "INFO:root:Loading /opt/igibson/gibson2/data/assets/models/fetch/meshes/elbow_flex_link.obj\n",
      "INFO:root:Loading /opt/igibson/gibson2/data/assets/models/fetch/meshes/forearm_roll_link.obj\n",
      "INFO:root:Loading /opt/igibson/gibson2/data/assets/models/fetch/meshes/wrist_flex_link.obj\n",
      "INFO:root:Loading /opt/igibson/gibson2/data/assets/models/fetch/meshes/wrist_roll_link.obj\n",
      "INFO:root:Loading /opt/igibson/gibson2/data/assets/models/fetch/meshes/gripper_link.obj\n",
      "INFO:root:Loading /opt/igibson/gibson2/data/assets/models/fetch/meshes/estop_link.obj\n",
      "INFO:root:Loading /opt/igibson/gibson2/data/assets/models/fetch/meshes/laser_link.obj\n",
      "INFO:root:Loading /opt/igibson/gibson2/data/assets/models/fetch/meshes/torso_fixed_link.obj\n"
     ]
    }
   ],
   "source": [
    "from gibson2.robots.fetch_robot import Fetch\n",
    "\n",
    "config = parse_config(os.path.join(gibson2.example_config_path, 'turtlebot_demo.yaml'))\n",
    "settings = MeshRendererSettings(enable_shadow=False, msaa=False)\n",
    "s = Simulator(mode='headless', image_width=256,\n",
    "              image_height=256, rendering_settings=settings)\n",
    "\n",
    "scene = StaticIndoorScene('Rs',\n",
    "                          build_graph=True,\n",
    "                          pybullet_load_texture=True)\n",
    "s.import_scene(scene)\n",
    "fetch = Fetch(config)\n",
    "s.import_robot(fetch)\n",
    "\n",
    "fetch.set_position([0,0,0.1])\n",
    "\n",
    "for i in range(100):\n",
    "    s.step()\n",
    "print(s.renderer.instances)\n"
   ]
  },
  {
   "cell_type": "code",
   "execution_count": 23,
   "id": "154c9c86",
   "metadata": {},
   "outputs": [
    {
     "data": {
      "application/vnd.jupyter.widget-view+json": {
       "model_id": "5bef606cdf8c4949a7d0aca0d675eb0a",
       "version_major": 2,
       "version_minor": 0
      },
      "text/plain": [
       "interactive(children=(FloatSlider(value=0.0, description='v_left', max=0.3, min=-0.3), FloatSlider(value=0.0, …"
      ]
     },
     "metadata": {},
     "output_type": "display_data"
    },
    {
     "data": {
      "text/plain": [
       "<function __main__.show_camera_image(v_left, v_right)>"
      ]
     },
     "execution_count": 23,
     "metadata": {},
     "output_type": "execute_result"
    }
   ],
   "source": [
    "def show_camera_image(v_left, v_right):\n",
    "    fetch.apply_action([v_left, v_right] + [0] * 8)\n",
    "    for i in range(5):\n",
    "        s.step()\n",
    "    camera_pose = np.array([0.5, 0.5, 0.5]) + fetch.get_position()\n",
    "    view_direction = np.array([-1, -1, -1])\n",
    "    s.renderer.set_camera(camera_pose, camera_pose + view_direction, [0, 0, 1])\n",
    "    frames = s.renderer.render(modes=('rgb'))[0]\n",
    "    plt.imshow((frames[:,:,:3] * 255).astype(np.uint8))\n",
    "    \n",
    "interactive_plot = interact_manual(show_camera_image, v_left = (-0.3, 0.3), v_right = (-0.3, 0.3))\n",
    "interactive_plot    "
   ]
  },
  {
   "cell_type": "code",
   "execution_count": null,
   "id": "dfa40085",
   "metadata": {},
   "outputs": [],
   "source": []
  }
 ],
 "metadata": {
  "kernelspec": {
   "display_name": "Python 3",
   "language": "python",
   "name": "python3"
  },
  "language_info": {
   "codemirror_mode": {
    "name": "ipython",
    "version": 3
   },
   "file_extension": ".py",
   "mimetype": "text/x-python",
   "name": "python",
   "nbconvert_exporter": "python",
   "pygments_lexer": "ipython3",
   "version": "3.6.8"
  }
 },
 "nbformat": 4,
 "nbformat_minor": 5
}
