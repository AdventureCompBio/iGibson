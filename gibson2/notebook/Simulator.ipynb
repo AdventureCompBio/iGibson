{
 "cells": [
  {
   "cell_type": "markdown",
   "id": "ea086958",
   "metadata": {},
   "source": [
    "# Simulators\n",
    "\n",
    "### Overview\n",
    "\n",
    "**Simulator** maintains an instance of **Renderer** and **PhysicsEngine** and provides APIs to import **Scene**, **Object** and **Robot** into both of them and keep them synchronized at all time.\n",
    "\n",
    "Some key functions are the following:\n",
    "- `load`: initialize PyBullet physics engine and MeshRenderer\n",
    "- `import_{scene, ig_scene}`: import the scene into PyBullet by calling `scene.load`, and then import it into MeshRenderer by calling `self.renderer.add_instance`. If `InteractiveIndoorScene` is imported using `import_ig_scene`, all objects in the scene are also imported.\n",
    "- `import_{object, articulated_object, robot}`: import the object, articulated object and robot into the simulator in a similar manner\n",
    "- `sync`: synchronize the poses of the dynamic objects (including the robots) between PyBullet and MeshRenderer. Specifically, it calls `update_position` for each object, in which it retrieve the object's pose in PyBullet, and then update its pose accordingly in MeshRenderer.\n",
    "\n",
    "If `Simulator` uses `gui` mode, by default it will also maintain a `Viewer`, which essentially is a virtual camera in the scene that can render images. More info about the `Viewer` can be found here: [gibson2/render/viewer.py](https://github.com/StanfordVL/iGibson/blob/master/gibson2/render/viewer.py). Notably, you can press `h` in the `ExternalView` window to show the help menu for mouse/keyboard control.\n",
    "\n",
    "Most of the code can be found here: [gibson2/simulator.py](https://github.com/StanfordVL/iGibson/blob/master/gibson2/simulator.py).\n",
    "\n"
   ]
  },
  {
   "cell_type": "markdown",
   "id": "dd4f2503",
   "metadata": {},
   "source": [
    "### Examples\n",
    "In this example, we import a `StaticIndoorScene`, a `Turtlebot`, and ten `YCBObject` into the simulator. The code can be found here: [gibson2/examples/demo/simulator_example.py](https://github.com/StanfordVL/iGibson/blob/master/gibson2/examples/demo/simulator_example.py)"
   ]
  },
  {
   "cell_type": "code",
   "execution_count": 1,
   "id": "73f8c77a",
   "metadata": {},
   "outputs": [
    {
     "name": "stderr",
     "output_type": "stream",
     "text": [
      "INFO:root:Importing iGibson (gibson2 module)\n",
      "INFO:root:Assets path: /opt/igibson/gibson2/data/assets\n",
      "INFO:root:Gibson Dataset path: /opt/igibson/gibson2/data/g_dataset\n",
      "INFO:root:iG Dataset path: /opt/igibson/gibson2/data/ig_dataset\n",
      "INFO:root:3D-FRONT Dataset path: /opt/igibson/gibson2/data/threedfront_dataset\n",
      "INFO:root:CubiCasa5K Dataset path: /opt/igibson/gibson2/data/cubicasa_dataset\n",
      "INFO:root:Example path: /opt/igibson/gibson2/examples\n",
      "INFO:root:Example config path: /opt/igibson/gibson2/examples/configs\n"
     ]
    },
    {
     "name": "stdout",
     "output_type": "stream",
     "text": [
      "torch is not available, falling back to rendering to memory(instead of tensor)\n"
     ]
    }
   ],
   "source": [
    "from gibson2.robots.turtlebot_robot import Turtlebot\n",
    "from gibson2.simulator import Simulator\n",
    "from gibson2.scenes.gibson_indoor_scene import StaticIndoorScene\n",
    "from gibson2.objects.ycb_object import YCBObject\n",
    "from gibson2.utils.utils import parse_config\n",
    "from gibson2.render.mesh_renderer.mesh_renderer_settings import MeshRendererSettings\n",
    "import numpy as np\n",
    "from gibson2.render.profiler import Profiler\n",
    "import gibson2\n",
    "import os"
   ]
  },
  {
   "cell_type": "code",
   "execution_count": 2,
   "id": "cebe2306",
   "metadata": {},
   "outputs": [
    {
     "name": "stderr",
     "output_type": "stream",
     "text": [
      "INFO:root:Device 0 is available for rendering\n",
      "INFO:root:Using device 0 for rendering\n",
      "INFO:root:IndoorScene model: Rs\n",
      "INFO:root:StaticIndoorScene scene: Rs\n"
     ]
    },
    {
     "name": "stdout",
     "output_type": "stream",
     "text": [
      "******************PyBullet Logging Information:\n",
      "PyBullet Logging Information******************\n"
     ]
    },
    {
     "name": "stderr",
     "output_type": "stream",
     "text": [
      "INFO:root:Loading traversable graph\n",
      "INFO:root:Loading /opt/igibson/gibson2/data/g_dataset/Rs/mesh_z_up.obj\n",
      "/opt/igibson/gibson2/render/mesh_renderer/mesh_renderer_cpu.py:461: RuntimeWarning: divide by zero encountered in true_divide\n",
      "  delta_uv1[:, 1] * delta_uv2[:, 0])\n",
      "/opt/igibson/gibson2/render/mesh_renderer/mesh_renderer_cpu.py:463: RuntimeWarning: invalid value encountered in multiply\n",
      "  delta_pos2 * delta_uv1[:, 1][:, None]) * r[:, None]\n",
      "/opt/igibson/gibson2/render/mesh_renderer/mesh_renderer_cpu.py:465: RuntimeWarning: invalid value encountered in multiply\n",
      "  delta_pos1 * delta_uv2[:, 0][:, None]) * r[:, None]\n",
      "INFO:root:Loading robot model file: turtlebot/turtlebot.urdf\n",
      "INFO:root:Loading /opt/igibson/gibson2/data/assets/models/turtlebot/kobuki_description/meshes/main_body.obj\n",
      "INFO:root:Loading /opt/igibson/gibson2/data/assets/models/mjcf_primitives/cube.obj\n",
      "INFO:root:Loading /opt/igibson/gibson2/data/assets/models/turtlebot/kobuki_description/meshes/wheel.obj\n",
      "INFO:root:Loading /opt/igibson/gibson2/data/assets/models/mjcf_primitives/cube.obj\n",
      "INFO:root:Loading /opt/igibson/gibson2/data/assets/models/mjcf_primitives/cube.obj\n",
      "INFO:root:Loading /opt/igibson/gibson2/data/assets/models/turtlebot/turtlebot_description/meshes/stacks/hexagons/pole_bottom.obj\n",
      "INFO:root:Loading /opt/igibson/gibson2/data/assets/models/turtlebot/turtlebot_description/meshes/stacks/hexagons/plate_bottom.obj\n",
      "INFO:root:Loading /opt/igibson/gibson2/data/assets/models/turtlebot/turtlebot_description/meshes/stacks/hexagons/pole_middle.obj\n",
      "INFO:root:Loading /opt/igibson/gibson2/data/assets/models/turtlebot/turtlebot_description/meshes/stacks/hexagons/plate_middle.obj\n",
      "INFO:root:Loading /opt/igibson/gibson2/data/assets/models/turtlebot/turtlebot_description/meshes/stacks/hexagons/pole_top.obj\n",
      "INFO:root:Loading /opt/igibson/gibson2/data/assets/models/turtlebot/turtlebot_description/meshes/stacks/hexagons/pole_kinect.obj\n",
      "INFO:root:Loading /opt/igibson/gibson2/data/assets/models/turtlebot/turtlebot_description/meshes/stacks/hexagons/plate_top.obj\n",
      "INFO:root:Loading /opt/igibson/gibson2/data/assets/models/turtlebot/turtlebot_description/meshes/sensors/kinect.obj\n",
      "INFO:root:Loading /opt/igibson/gibson2/data/assets/models/ycb/003_cracker_box/textured_simple.obj\n"
     ]
    },
    {
     "name": "stdout",
     "output_type": "stream",
     "text": [
      "[Instance(0) -> Object(0), Robot(1) -> Objects(1,2,3,3,4,5,6,6,6,6,6,6,7,8,8,8,8,9,10,10,10,10,11,11,12,13), Instance(2) -> Object(14), Instance(3) -> Object(14), Instance(4) -> Object(14), Instance(5) -> Object(14), Instance(6) -> Object(14), Instance(7) -> Object(14), Instance(8) -> Object(14), Instance(9) -> Object(14), Instance(10) -> Object(14), Instance(11) -> Object(14)]\n"
     ]
    }
   ],
   "source": [
    "config = parse_config(os.path.join(gibson2.example_config_path, 'turtlebot_demo.yaml'))\n",
    "settings = MeshRendererSettings(enable_shadow=False, msaa=False)\n",
    "s = Simulator(mode='headless', image_width=256,\n",
    "              image_height=256, rendering_settings=settings)\n",
    "\n",
    "scene = StaticIndoorScene('Rs',\n",
    "                          build_graph=True,\n",
    "                          pybullet_load_texture=True)\n",
    "s.import_scene(scene)\n",
    "turtlebot = Turtlebot(config)\n",
    "s.import_robot(turtlebot)\n",
    "\n",
    "for _ in range(10):\n",
    "    obj = YCBObject('003_cracker_box')\n",
    "    s.import_object(obj)\n",
    "    obj.set_position_orientation(np.random.uniform(\n",
    "        low=0, high=2, size=3), [0, 0, 0, 1])\n",
    "\n",
    "print(s.renderer.instances)\n"
   ]
  },
  {
   "cell_type": "code",
   "execution_count": 10,
   "id": "0abd1422",
   "metadata": {},
   "outputs": [
    {
     "name": "stdout",
     "output_type": "stream",
     "text": [
      "Simulator step: 25.53 fps, 0.03917 seconds\n",
      "Simulator step: 30.40 fps, 0.03290 seconds\n",
      "Simulator step: 32.03 fps, 0.03122 seconds\n",
      "Simulator step: 32.10 fps, 0.03115 seconds\n",
      "Simulator step: 31.79 fps, 0.03145 seconds\n",
      "Simulator step: 32.03 fps, 0.03122 seconds\n",
      "Simulator step: 31.99 fps, 0.03126 seconds\n",
      "Simulator step: 32.20 fps, 0.03105 seconds\n",
      "Simulator step: 32.05 fps, 0.03120 seconds\n",
      "Simulator step: 32.11 fps, 0.03114 seconds\n",
      "Simulator step: 33.66 fps, 0.02971 seconds\n",
      "Simulator step: 33.49 fps, 0.02986 seconds\n",
      "Simulator step: 31.48 fps, 0.03176 seconds\n",
      "Simulator step: 33.06 fps, 0.03025 seconds\n",
      "Simulator step: 31.76 fps, 0.03149 seconds\n",
      "Simulator step: 31.49 fps, 0.03176 seconds\n",
      "Simulator step: 32.58 fps, 0.03069 seconds\n",
      "Simulator step: 32.20 fps, 0.03106 seconds\n",
      "Simulator step: 32.52 fps, 0.03075 seconds\n",
      "Simulator step: 33.06 fps, 0.03025 seconds\n",
      "Simulator step: 32.54 fps, 0.03073 seconds\n",
      "Simulator step: 32.41 fps, 0.03085 seconds\n",
      "Simulator step: 31.76 fps, 0.03148 seconds\n",
      "Simulator step: 32.43 fps, 0.03083 seconds\n",
      "Simulator step: 32.34 fps, 0.03093 seconds\n",
      "Simulator step: 31.71 fps, 0.03153 seconds\n",
      "Simulator step: 31.48 fps, 0.03177 seconds\n",
      "Simulator step: 33.27 fps, 0.03006 seconds\n",
      "Simulator step: 32.21 fps, 0.03104 seconds\n",
      "Simulator step: 31.72 fps, 0.03152 seconds\n",
      "Simulator step: 31.57 fps, 0.03167 seconds\n",
      "Simulator step: 31.09 fps, 0.03216 seconds\n",
      "Simulator step: 31.94 fps, 0.03131 seconds\n",
      "Simulator step: 31.66 fps, 0.03158 seconds\n",
      "Simulator step: 31.08 fps, 0.03218 seconds\n",
      "Simulator step: 32.04 fps, 0.03122 seconds\n",
      "Simulator step: 30.21 fps, 0.03310 seconds\n",
      "Simulator step: 30.73 fps, 0.03255 seconds\n",
      "Simulator step: 32.50 fps, 0.03077 seconds\n",
      "Simulator step: 31.05 fps, 0.03220 seconds\n",
      "Simulator step: 31.85 fps, 0.03139 seconds\n",
      "Simulator step: 31.36 fps, 0.03189 seconds\n",
      "Simulator step: 31.67 fps, 0.03158 seconds\n",
      "Simulator step: 30.44 fps, 0.03285 seconds\n",
      "Simulator step: 30.32 fps, 0.03298 seconds\n",
      "Simulator step: 31.36 fps, 0.03189 seconds\n",
      "Simulator step: 32.47 fps, 0.03080 seconds\n",
      "Simulator step: 31.92 fps, 0.03133 seconds\n",
      "Simulator step: 31.74 fps, 0.03151 seconds\n",
      "Simulator step: 31.77 fps, 0.03148 seconds\n",
      "Simulator step: 30.75 fps, 0.03252 seconds\n",
      "Simulator step: 32.51 fps, 0.03076 seconds\n",
      "Simulator step: 32.16 fps, 0.03110 seconds\n",
      "Simulator step: 32.38 fps, 0.03088 seconds\n",
      "Simulator step: 32.53 fps, 0.03074 seconds\n",
      "Simulator step: 32.12 fps, 0.03113 seconds\n",
      "Simulator step: 32.46 fps, 0.03080 seconds\n",
      "Simulator step: 31.61 fps, 0.03164 seconds\n",
      "Simulator step: 31.70 fps, 0.03155 seconds\n",
      "Simulator step: 32.45 fps, 0.03081 seconds\n",
      "Simulator step: 31.06 fps, 0.03219 seconds\n",
      "Simulator step: 31.63 fps, 0.03162 seconds\n",
      "Simulator step: 31.88 fps, 0.03137 seconds\n",
      "Simulator step: 32.27 fps, 0.03099 seconds\n",
      "Simulator step: 32.40 fps, 0.03086 seconds\n",
      "Simulator step: 31.80 fps, 0.03145 seconds\n",
      "Simulator step: 32.24 fps, 0.03102 seconds\n",
      "Simulator step: 32.23 fps, 0.03102 seconds\n",
      "Simulator step: 32.59 fps, 0.03069 seconds\n",
      "Simulator step: 32.15 fps, 0.03110 seconds\n",
      "Simulator step: 32.09 fps, 0.03117 seconds\n",
      "Simulator step: 31.56 fps, 0.03169 seconds\n",
      "Simulator step: 31.93 fps, 0.03132 seconds\n",
      "Simulator step: 32.42 fps, 0.03084 seconds\n",
      "Simulator step: 32.46 fps, 0.03081 seconds\n",
      "Simulator step: 32.32 fps, 0.03094 seconds\n",
      "Simulator step: 32.73 fps, 0.03055 seconds\n",
      "Simulator step: 33.26 fps, 0.03006 seconds\n",
      "Simulator step: 33.00 fps, 0.03030 seconds\n",
      "Simulator step: 32.12 fps, 0.03113 seconds\n",
      "Simulator step: 32.28 fps, 0.03098 seconds\n",
      "Simulator step: 32.41 fps, 0.03086 seconds\n",
      "Simulator step: 32.38 fps, 0.03088 seconds\n",
      "Simulator step: 33.58 fps, 0.02978 seconds\n",
      "Simulator step: 32.87 fps, 0.03043 seconds\n",
      "Simulator step: 33.26 fps, 0.03007 seconds\n",
      "Simulator step: 32.00 fps, 0.03125 seconds\n",
      "Simulator step: 31.75 fps, 0.03149 seconds\n",
      "Simulator step: 32.39 fps, 0.03087 seconds\n",
      "Simulator step: 32.29 fps, 0.03097 seconds\n",
      "Simulator step: 32.56 fps, 0.03072 seconds\n",
      "Simulator step: 32.53 fps, 0.03074 seconds\n",
      "Simulator step: 32.64 fps, 0.03064 seconds\n",
      "Simulator step: 31.84 fps, 0.03140 seconds\n",
      "Simulator step: 31.53 fps, 0.03171 seconds\n",
      "Simulator step: 32.22 fps, 0.03103 seconds\n",
      "Simulator step: 32.43 fps, 0.03084 seconds\n",
      "Simulator step: 31.87 fps, 0.03138 seconds\n",
      "Simulator step: 32.05 fps, 0.03120 seconds\n",
      "Simulator step: 32.48 fps, 0.03079 seconds\n"
     ]
    }
   ],
   "source": [
    "rgbs = []\n",
    "for i in range(100):\n",
    "    with Profiler('Simulator step'):\n",
    "        turtlebot.apply_action([0.1, 0.1])\n",
    "        s.step()\n",
    "        rgb = s.renderer.render_robot_cameras(modes=('rgb'))[0]\n",
    "        rgbs.append(rgb)"
   ]
  },
  {
   "cell_type": "code",
   "execution_count": 31,
   "id": "0e47530e",
   "metadata": {},
   "outputs": [
    {
     "data": {
      "application/vnd.jupyter.widget-view+json": {
       "model_id": "82d9ac0ad4104bd1a824e12afdba918f",
       "version_major": 2,
       "version_minor": 0
      },
      "text/plain": [
       "interactive(children=(IntSlider(value=49, description='idx', max=99), Output(layout=Layout(height='350px'))), …"
      ]
     },
     "metadata": {},
     "output_type": "display_data"
    }
   ],
   "source": [
    "from ipywidgets import interact, interactive, fixed, interact_manual\n",
    "import ipywidgets as widgets\n",
    "import matplotlib.pyplot as plt\n",
    "from PIL import Image\n",
    "def show_frame(idx):\n",
    "    display(Image.fromarray(((rgbs[idx][:,:,:3] * 255).astype(np.uint8))))\n",
    "\n",
    "interactive_plot = interactive(show_frame, idx=(0,99))\n",
    "output = interactive_plot.children[-1]\n",
    "output.layout.height = '350px'\n",
    "interactive_plot"
   ]
  },
  {
   "cell_type": "code",
   "execution_count": null,
   "id": "33efee27",
   "metadata": {},
   "outputs": [],
   "source": []
  }
 ],
 "metadata": {
  "kernelspec": {
   "display_name": "Python 3",
   "language": "python",
   "name": "python3"
  },
  "language_info": {
   "codemirror_mode": {
    "name": "ipython",
    "version": 3
   },
   "file_extension": ".py",
   "mimetype": "text/x-python",
   "name": "python",
   "nbconvert_exporter": "python",
   "pygments_lexer": "ipython3",
   "version": "3.6.8"
  }
 },
 "nbformat": 4,
 "nbformat_minor": 5
}
