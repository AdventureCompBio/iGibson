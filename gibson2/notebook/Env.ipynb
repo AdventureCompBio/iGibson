{
 "cells": [
  {
   "cell_type": "markdown",
   "id": "124ae5e2",
   "metadata": {},
   "source": [
    "# Environments\n"
   ]
  },
  {
   "cell_type": "markdown",
   "id": "31c23d83",
   "metadata": {},
   "source": [
    "### Overview\n",
    "\n",
    "We provide **Environments** that follow the [OpenAI gym](https://github.com/openai/gym) interface for applications such as reinforcement learning algorithms. Generally speaking, an **Environment** instantiates **Scene**, **Object** and **Robot** and import them into its **Simulator**. An **Environment** also instantiates a list of **Sensors** (usually as part of the observation space) and a **Task**, which further includes a list of **Reward Functions** and **Termination Conditions**.\n",
    "\n",
    "Most of the code can be found here: [gibson2/envs/igibson_env.py](https://github.com/StanfordVL/iGibson/blob/master/gibson2/envs/igibson_env.py)."
   ]
  },
  {
   "cell_type": "markdown",
   "id": "6aaef4d7",
   "metadata": {},
   "source": [
    "\n",
    "#### Sensors\n",
    "\n",
    "We provide different types of sensors as lightweight wrappers around the renderer. Currently we support RGB, surface normal, segmentation, 3D point cloud, depth map, optical flow, and scene flow, and also 1-beam and 16-beam LiDAR signals. Additionally, we provide a sensor noise model with random dropout (currently only for depth map and 1-beam LiDAR) to simulate real-world sensor noise. The amount of noise can be controlled by `depth_noise_rate` and `scan_noise_rate` in the config files. Contribution of more noise models is most welcome.\n",
    "\n",
    "Most of the code can be found in [gibson2/sensors](https://github.com/StanfordVL/iGibson/tree/master/gibson2/sensors)."
   ]
  },
  {
   "cell_type": "markdown",
   "id": "a9b5f0f6",
   "metadata": {},
   "source": [
    "\n",
    "#### Tasks\n",
    "\n",
    "Each **Task** should implement `reset_scene`, `reset_agent`, `step` and `get_task_obs`.\n",
    "- `reset_scene` and `reset_agent` will be called during `env.reset` and should include task-specific details to reset the scene and the agent, respectively.\n",
    "- `step` will be called during `env.step` and should include task-specific details of what needs to be done at every timestep. \n",
    "- `get_task_obs` returns task-specific observation (non-sensory observation) as a numpy array. For instance, typical goal-oriented robotics tasks should include goal information and proprioceptive states in `get_task_obs`.\n",
    "Each **Task** should also include a list of **Reward Functions** and **Termination Conditions** defined below.\n",
    "We provide a few Embodied AI tasks.\n",
    "- PointGoalFixedTask\n",
    "- PointGoalRandomTask\n",
    "- InteractiveNavRandomTask\n",
    "- DynamicNavRandomTask\n",
    "- ReachingRandomTask\n",
    "- RoomRearrangementTask\n",
    "\n",
    "Most of the code can be found in [gibson2/tasks](https://github.com/StanfordVL/iGibson/tree/master/gibson2/tasks)."
   ]
  },
  {
   "cell_type": "markdown",
   "id": "1c80a37f",
   "metadata": {},
   "source": [
    "\n",
    "#### Reward Functions\n",
    "\n",
    "At each timestep, `env.step` will call `task.get_reward`, which in turn sums up all the reward terms. \n",
    "We provide a few common reward functions for robotics tasks.\n",
    "- PointGoalReward\n",
    "- ReachingGoalReward\n",
    "- PotentialReward\n",
    "- CollisionReward\n",
    "\n",
    "Most of the code can be found in [gibson2/reward_functions](https://github.com/StanfordVL/iGibson/tree/master/gibson2/reward_functions).\n",
    "\n",
    "#### Termination Conditions\n",
    "\n",
    "At each timestep, `env.step` will call `task.get_termination`, which in turn checks each of the termination condition to see if the episode is done and/or successful. \n",
    "We provide a few common termination conditions for robotics tasks.\n",
    "- PointGoal\n",
    "- ReachingGoal\n",
    "- MaxCollision\n",
    "- Timeout\n",
    "- OutOfBound\n",
    "Most of the code can be found in [gibson2/termination_conditions](https://github.com/StanfordVL/iGibson/tree/master/gibson2/termination_conditions).\n",
    "\n",
    "#### Configs\n",
    "To instantiate an **Environment**, we first need to create a YAML config file. It will specify parameters for the **Environment** (e.g. robot type, action frequency, etc), the **Sensors** (e.g. sensor types, image resolution, noise rate, etc), the **Task** (e.g. task type, goal distance range, etc), the **Reward Functions** (e.g. reward types, reward scale, etc) and the **Termination Conditions** (e.g. goal convergence threshold, time limit, etc). Exapmles of config files can be found here: [examples/configs](https://github.com/StanfordVL/iGibson/tree/master/examples/configs).\n",
    "\n",
    "Here is one example: [examples/configs/turtlebot_point_nav.yaml](https://github.com/StanfordVL/iGibson/blob/master/examples/configs/turtlebot_point_nav.yaml)\n",
    "\n",
    "```yaml\n",
    "# scene\n",
    "scene: igibson\n",
    "scene_id: Rs_int\n",
    "build_graph: true\n",
    "load_texture: true\n",
    "pybullet_load_texture: true\n",
    "trav_map_type: no_obj\n",
    "trav_map_resolution: 0.1\n",
    "trav_map_erosion: 2\n",
    "should_open_all_doors: true\n",
    "\n",
    "# domain randomization\n",
    "texture_randomization_freq: null\n",
    "object_randomization_freq: null\n",
    "\n",
    "# robot\n",
    "robot: Turtlebot\n",
    "is_discrete: false\n",
    "velocity: 1.0\n",
    "\n",
    "# task\n",
    "task: point_nav_random\n",
    "target_dist_min: 1.0\n",
    "target_dist_max: 10.0\n",
    "goal_format: polar\n",
    "task_obs_dim: 4\n",
    "\n",
    "# reward\n",
    "reward_type: geodesic\n",
    "success_reward: 10.0\n",
    "potential_reward_weight: 1.0\n",
    "collision_reward_weight: -0.1\n",
    "\n",
    "# discount factor\n",
    "discount_factor: 0.99\n",
    "\n",
    "# termination condition\n",
    "dist_tol: 0.36  # body width\n",
    "max_step: 500\n",
    "max_collisions_allowed: 500\n",
    "\n",
    "# misc config\n",
    "initial_pos_z_offset: 0.1\n",
    "collision_ignore_link_a_ids: [1, 2, 3, 4]  # ignore collisions with these robot links\n",
    "\n",
    "# sensor spec\n",
    "output: [task_obs, rgb, depth, scan]\n",
    "# image\n",
    "# ASUS Xtion PRO LIVE\n",
    "# https://www.asus.com/us/3D-Sensor/Xtion_PRO_LIVE\n",
    "fisheye: false\n",
    "image_width: 160\n",
    "image_height: 120\n",
    "vertical_fov: 45\n",
    "# depth\n",
    "depth_low: 0.8\n",
    "depth_high: 3.5\n",
    "# scan\n",
    "# Hokuyo URG-04LX-UG01\n",
    "# https://www.hokuyo-aut.jp/search/single.php?serial=166\n",
    "# n_horizontal_rays is originally 683, sub-sampled 1/3\n",
    "n_horizontal_rays: 228\n",
    "n_vertical_beams: 1\n",
    "laser_linear_range: 5.6\n",
    "laser_angular_range: 240.0\n",
    "min_laser_dist: 0.05\n",
    "laser_link_name: scan_link\n",
    "\n",
    "# sensor noise\n",
    "depth_noise_rate: 0.0\n",
    "scan_noise_rate: 0.0\n",
    "\n",
    "# visual objects\n",
    "visual_object_at_initial_target_pos: true\n",
    "target_visual_object_visible_to_agent: false\n",
    "```"
   ]
  },
  {
   "cell_type": "markdown",
   "id": "97efda40",
   "metadata": {},
   "source": [
    "\n",
    "Parameters of this config file are explained below:\n",
    "\n",
    "| Attribute | Example Value | Expalanation |\n",
    "| ----------| ------------- | ------------ |\n",
    "| scene | igibson | which type of scene: [empty, stadium, gibson, igibson] |\n",
    "| scene_id | Rs_int | scene_id for the gibson or igibson scene |\n",
    "| build_graph | true | whether to build traversability graph for the building scene |\n",
    "| load_texture | true | whether to load texture into MeshRenderer. Can be set to false if RGB is not needed |\n",
    "| pybullet_load_texture | true | whether to load texture into PyBullet, for debugging purpose only |\n",
    "| trav_map_resolution | 0.1 | resolution of the traversability map. 0.1 means each pixel represents 0.1 meter |\n",
    "| trav_map_erosion | 2 | number of pixels to erode the traversability map. trav_map_resolution * trav_map_erosion should be almost equal to the radius of the robot base |\n",
    "| should_open_all_doors | True | whether to open all doors in the scene during episode reset (e.g. useful for cross-room navigation tasks) |\n",
    "| texture_randomization_freq | null | whether to perform material/texture randomization (null means no randomization, 10 means randomize every 10 episodes) |\n",
    "| object_randomization_freq | null | whether to perform object randomization (null means no randomization, 10 means randomize every 10 episodes) |\n",
    "| robot | Turtlebot | which type of robot, e.g. Turtlebot, Fetch, Locobot, etc |\n",
    "| is_discrete | false | whether to use discrete action space for the robot |\n",
    "| velocity | 1.0 | maximum normalized joint velocity. 0.5 means maximum robot action will actuate half of maximum joint velocities that are allowed in the robot URDF file |\n",
    "| task | point_nav_random | which type of task, e.g. point_nav_random, room_rearrangement, etc |\n",
    "| target_dist_min | 1.0 | minimum distance (in meters) between the initial and target positions for the navigation task |\n",
    "| target_dist_max | 10.0 | maximum distance (in meters) between the initial and target positions for the navigation task |\n",
    "| goal_format | polar | which format to represent the navigation goals: [polar, cartesian] |\n",
    "| task_obs_dim | 4 | the dimension of task-specific observation returned by task.get_task_obs |\n",
    "| reward_type | geodesic | which type of reward: [geodesic, l2, sparse], or define your own |\n",
    "| success_reward | 10.0 | scaling factor of the success reward |\n",
    "| slack_reward | -0.01 | scaling factor of the slack reward (negative because it should be a penalty) |\n",
    "| potential_reward_weight | 1.0 | scaling factor of the potential reward |\n",
    "| collision_reward_weight | -0.1 | scaling factor of the collision reward (negative because it should be a penalty) |\n",
    "| discount_factor | 0.99 | discount factor for the MDP |\n",
    "| dist_tol | 0.36 | the distance tolerance for converging to the navigation goal. This is usually equal to the diameter of the robot base |\n",
    "| max_step | 500 | maximum number of timesteps allowed in an episode |\n",
    "| max_collisions_allowed | 500 | maximum number of timesteps with robot collision allowed in an episode |\n",
    "| initial_pos_z_offset | 0.1 | z-offset (in meters) when placing the robots and the objects to accommodate uneven floor surface |\n",
    "| collision_ignore_link_a_ids | [1, 2, 3, 4] | collision with these robot links will not result in collision penalty. These usually are links of wheels \n",
    "| output | [task_obs, rgb, depth, scan] | what observation space is. sensor means task-specific, non-sensory information (e.g. goal info, proprioceptive state), rgb and depth mean RGBD camera sensing, scan means LiDAR sensing |\n",
    "| fisheye | false | whether to use fisheye camera |\n",
    "| image_width | 640 | image width for the camera |\n",
    "| image_height | 480 | image height for the camera |\n",
    "| vertical_fov | 45 | camera vertial field of view (in degrees) |\n",
    "| depth_low | 0.8 | lower bound of the valid range of the depth camera |\n",
    "| depth_high | 3.5 | upper bound of the valid range of the depth camera |\n",
    "| n_horizontal_rays | 228 | number of horizontal rays to simulate for the LiDAR |\n",
    "| n_vertical_beams | 1 | number of vertical beams to simulate for the LiDAR. Currently iGibson only supports n_vertical_beams == 1 |\n",
    "| laser_linear_range | 5.6 | upper bound of the valid range of the LiDAR |\n",
    "| laser_angular_range | 240.0 | angular range of the LiDAR (in degrees) |\n",
    "| min_laser_dist | 0.05 | lower bound of the valid range of the LiDAR |\n",
    "| laser_link_name | scan_link | the link name of the LiDAR sensor in the robot URDF file |\n",
    "| depth_noise_rate | 0.0 | noise rate for the depth camera. 0.1 means 10% of the pixels will be corrupted (set to 0.0) |\n",
    "| scan_noise_rate | 0.0 | noise rate for the LiDAR. 0.1 means 10% of the rays will be corrupted (set to laser_linear_range) |\n",
    "| visual_object_at_initial_target_pos | true | whether to show visual markers for the initial and target positions |\n",
    "| target_visual_object_visible_to_agent | false | whether these visual markers are visible to the agents |\n"
   ]
  },
  {
   "cell_type": "markdown",
   "id": "58599f88",
   "metadata": {},
   "source": [
    "\n",
    "### Examples\n",
    "\n",
    "#### Static Environments\n",
    "In this example, we show how to instantiate `iGibsonEnv` and how to step through the environment. At the beginning of each episode, we need to call `env.reset()`. Then we need to call `env.step(action)` to step through the environment and retrieve `(state, reward, done, info)`.\n",
    "- `state`: a python dictionary of observations, e.g. `state['rgb']` will be a H x W x 3 numpy array that represents the current image\n",
    "- `reward`: a scalar that represents the current reward\n",
    "- `done`: a boolean that indicates whether the episode should terminate\n",
    "- `info`: a python dictionary for bookkeeping purpose\n",
    "The code can be found here: [gibson2/examples/demo/env_example.py](https://github.com/StanfordVL/iGibson/blob/master/gibson2/examples/demo/env_example.py).\n"
   ]
  },
  {
   "cell_type": "code",
   "execution_count": 1,
   "id": "d3eb95de",
   "metadata": {},
   "outputs": [
    {
     "name": "stderr",
     "output_type": "stream",
     "text": [
      "INFO:root:Importing iGibson (gibson2 module)\n",
      "INFO:root:Assets path: /opt/igibson/gibson2/data/assets\n",
      "INFO:root:Gibson Dataset path: /opt/igibson/gibson2/data/g_dataset\n",
      "INFO:root:iG Dataset path: /opt/igibson/gibson2/data/ig_dataset\n",
      "INFO:root:3D-FRONT Dataset path: /opt/igibson/gibson2/data/threedfront_dataset\n",
      "INFO:root:CubiCasa5K Dataset path: /opt/igibson/gibson2/data/cubicasa_dataset\n",
      "INFO:root:Example path: /opt/igibson/gibson2/examples\n",
      "INFO:root:Example config path: /opt/igibson/gibson2/examples/configs\n"
     ]
    },
    {
     "name": "stdout",
     "output_type": "stream",
     "text": [
      "torch is not available, falling back to rendering to memory(instead of tensor)\n"
     ]
    }
   ],
   "source": [
    "from gibson2.envs.igibson_env import iGibsonEnv\n",
    "from time import time\n",
    "import gibson2\n",
    "import os\n",
    "from gibson2.render.profiler import Profiler\n",
    "import logging"
   ]
  },
  {
   "cell_type": "code",
   "execution_count": 3,
   "id": "a5d09276",
   "metadata": {},
   "outputs": [
    {
     "name": "stderr",
     "output_type": "stream",
     "text": [
      "INFO:root:Device 0 is available for rendering\n",
      "INFO:root:Using device 0 for rendering\n",
      "INFO:root:IndoorScene model: Rs\n",
      "INFO:root:StaticIndoorScene scene: Rs\n"
     ]
    },
    {
     "name": "stdout",
     "output_type": "stream",
     "text": [
      "******************PyBullet Logging Information:\n",
      "PyBullet Logging Information******************\n"
     ]
    },
    {
     "name": "stderr",
     "output_type": "stream",
     "text": [
      "INFO:root:Loading traversable graph\n",
      "INFO:root:Loading /opt/igibson/gibson2/data/g_dataset/Rs/mesh_z_up.obj\n",
      "INFO:root:Loading robot model file: turtlebot/turtlebot.urdf\n",
      "INFO:root:Loading /opt/igibson/gibson2/data/assets/models/turtlebot/kobuki_description/meshes/main_body.obj\n",
      "INFO:root:Loading /opt/igibson/gibson2/data/assets/models/mjcf_primitives/cube.obj\n",
      "INFO:root:Loading /opt/igibson/gibson2/data/assets/models/turtlebot/kobuki_description/meshes/wheel.obj\n",
      "INFO:root:Loading /opt/igibson/gibson2/data/assets/models/mjcf_primitives/cube.obj\n",
      "INFO:root:Loading /opt/igibson/gibson2/data/assets/models/mjcf_primitives/cube.obj\n",
      "INFO:root:Loading /opt/igibson/gibson2/data/assets/models/turtlebot/turtlebot_description/meshes/stacks/hexagons/pole_bottom.obj\n",
      "INFO:root:Loading /opt/igibson/gibson2/data/assets/models/turtlebot/turtlebot_description/meshes/stacks/hexagons/plate_bottom.obj\n",
      "INFO:root:Loading /opt/igibson/gibson2/data/assets/models/turtlebot/turtlebot_description/meshes/stacks/hexagons/pole_middle.obj\n",
      "INFO:root:Loading /opt/igibson/gibson2/data/assets/models/turtlebot/turtlebot_description/meshes/stacks/hexagons/plate_middle.obj\n",
      "INFO:root:Loading /opt/igibson/gibson2/data/assets/models/turtlebot/turtlebot_description/meshes/stacks/hexagons/pole_top.obj\n",
      "INFO:root:Loading /opt/igibson/gibson2/data/assets/models/turtlebot/turtlebot_description/meshes/stacks/hexagons/pole_kinect.obj\n",
      "INFO:root:Loading /opt/igibson/gibson2/data/assets/models/turtlebot/turtlebot_description/meshes/stacks/hexagons/plate_top.obj\n",
      "INFO:root:Loading /opt/igibson/gibson2/data/assets/models/turtlebot/turtlebot_description/meshes/sensors/kinect.obj\n"
     ]
    },
    {
     "name": "stdout",
     "output_type": "stream",
     "text": [
      "Environment action step: 23.00 fps, 0.04349 seconds\n",
      "Environment action step: 23.88 fps, 0.04187 seconds\n",
      "Environment action step: 21.19 fps, 0.04718 seconds\n",
      "Environment action step: 21.08 fps, 0.04744 seconds\n",
      "Environment action step: 18.81 fps, 0.05316 seconds\n",
      "Environment action step: 18.51 fps, 0.05402 seconds\n",
      "Environment action step: 20.00 fps, 0.04999 seconds\n",
      "Environment action step: 21.34 fps, 0.04686 seconds\n",
      "Environment action step: 20.90 fps, 0.04784 seconds\n",
      "Environment action step: 21.42 fps, 0.04668 seconds\n",
      "Environment action step: 22.59 fps, 0.04426 seconds\n",
      "Environment action step: 22.66 fps, 0.04413 seconds\n",
      "Environment action step: 22.88 fps, 0.04370 seconds\n",
      "Environment action step: 21.76 fps, 0.04595 seconds\n",
      "Environment action step: 22.29 fps, 0.04486 seconds\n",
      "Environment action step: 21.96 fps, 0.04553 seconds\n",
      "Environment action step: 22.97 fps, 0.04353 seconds\n",
      "Environment action step: 22.91 fps, 0.04365 seconds\n",
      "Environment action step: 23.75 fps, 0.04210 seconds\n",
      "Environment action step: 23.13 fps, 0.04324 seconds\n",
      "Environment action step: 21.83 fps, 0.04581 seconds\n",
      "Environment action step: 22.81 fps, 0.04383 seconds\n",
      "Environment action step: 23.09 fps, 0.04330 seconds\n",
      "Environment action step: 20.55 fps, 0.04867 seconds\n",
      "Environment action step: 20.49 fps, 0.04882 seconds\n",
      "Environment action step: 20.82 fps, 0.04802 seconds\n",
      "Environment action step: 21.72 fps, 0.04603 seconds\n",
      "Environment action step: 21.53 fps, 0.04645 seconds\n",
      "Environment action step: 21.76 fps, 0.04595 seconds\n",
      "Environment action step: 21.23 fps, 0.04710 seconds\n",
      "Environment action step: 20.44 fps, 0.04891 seconds\n",
      "Environment action step: 21.37 fps, 0.04679 seconds\n",
      "Environment action step: 21.26 fps, 0.04703 seconds\n",
      "Environment action step: 22.15 fps, 0.04515 seconds\n",
      "Environment action step: 22.05 fps, 0.04536 seconds\n",
      "Environment action step: 21.67 fps, 0.04615 seconds\n",
      "Environment action step: 22.48 fps, 0.04449 seconds\n",
      "Environment action step: 22.09 fps, 0.04526 seconds\n",
      "Environment action step: 21.63 fps, 0.04623 seconds\n",
      "Environment action step: 22.35 fps, 0.04473 seconds\n",
      "Environment action step: 22.12 fps, 0.04521 seconds\n",
      "Environment action step: 21.71 fps, 0.04607 seconds\n",
      "Environment action step: 21.06 fps, 0.04748 seconds\n",
      "Environment action step: 21.58 fps, 0.04633 seconds\n",
      "Environment action step: 21.35 fps, 0.04684 seconds\n",
      "Environment action step: 20.48 fps, 0.04882 seconds\n",
      "Environment action step: 21.52 fps, 0.04646 seconds\n",
      "Environment action step: 21.95 fps, 0.04555 seconds\n",
      "Environment action step: 23.25 fps, 0.04300 seconds\n",
      "Environment action step: 22.99 fps, 0.04349 seconds\n",
      "Environment action step: 22.85 fps, 0.04377 seconds\n",
      "Environment action step: 23.01 fps, 0.04346 seconds\n",
      "Environment action step: 23.77 fps, 0.04206 seconds\n",
      "Environment action step: 22.87 fps, 0.04372 seconds\n",
      "Environment action step: 23.39 fps, 0.04276 seconds\n",
      "Environment action step: 22.75 fps, 0.04395 seconds\n",
      "Environment action step: 22.50 fps, 0.04445 seconds\n",
      "Environment action step: 22.57 fps, 0.04431 seconds\n",
      "Environment action step: 22.76 fps, 0.04393 seconds\n",
      "Environment action step: 21.10 fps, 0.04740 seconds\n",
      "Environment action step: 19.69 fps, 0.05079 seconds\n",
      "Environment action step: 20.44 fps, 0.04893 seconds\n",
      "Environment action step: 19.99 fps, 0.05003 seconds\n",
      "Environment action step: 20.47 fps, 0.04886 seconds\n",
      "Environment action step: 21.16 fps, 0.04727 seconds\n",
      "Environment action step: 20.20 fps, 0.04950 seconds\n",
      "Environment action step: 20.36 fps, 0.04912 seconds\n",
      "Environment action step: 21.12 fps, 0.04735 seconds\n",
      "Environment action step: 18.97 fps, 0.05272 seconds\n",
      "Environment action step: 17.76 fps, 0.05629 seconds\n",
      "Environment action step: 18.48 fps, 0.05410 seconds\n",
      "Environment action step: 20.35 fps, 0.04915 seconds\n",
      "Environment action step: 21.59 fps, 0.04631 seconds\n",
      "Environment action step: 20.61 fps, 0.04851 seconds\n",
      "Environment action step: 20.91 fps, 0.04783 seconds\n",
      "Environment action step: 20.69 fps, 0.04834 seconds\n",
      "Environment action step: 21.38 fps, 0.04676 seconds\n",
      "Environment action step: 20.59 fps, 0.04857 seconds\n",
      "Environment action step: 20.43 fps, 0.04895 seconds\n",
      "Environment action step: 20.66 fps, 0.04840 seconds\n",
      "Environment action step: 20.97 fps, 0.04768 seconds\n",
      "Environment action step: 20.81 fps, 0.04806 seconds\n",
      "Environment action step: 21.74 fps, 0.04600 seconds\n",
      "Environment action step: 21.71 fps, 0.04605 seconds\n",
      "Environment action step: 20.04 fps, 0.04990 seconds\n",
      "Environment action step: 19.60 fps, 0.05102 seconds\n",
      "Environment action step: 20.86 fps, 0.04793 seconds\n",
      "Environment action step: 22.67 fps, 0.04411 seconds\n",
      "Environment action step: 22.70 fps, 0.04406 seconds\n",
      "Environment action step: 21.30 fps, 0.04694 seconds\n",
      "Environment action step: 21.98 fps, 0.04549 seconds\n",
      "Environment action step: 23.42 fps, 0.04270 seconds\n",
      "Environment action step: 22.73 fps, 0.04399 seconds\n",
      "Environment action step: 22.26 fps, 0.04493 seconds\n",
      "Environment action step: 21.30 fps, 0.04696 seconds\n",
      "Environment action step: 21.74 fps, 0.04601 seconds\n",
      "Environment action step: 22.11 fps, 0.04523 seconds\n",
      "Environment action step: 22.20 fps, 0.04505 seconds\n",
      "Environment action step: 23.51 fps, 0.04253 seconds\n",
      "Environment action step: 22.99 fps, 0.04350 seconds\n",
      "******************PyBullet Logging Information:\n",
      "PyBullet Logging Information******************\n"
     ]
    }
   ],
   "source": [
    "config_filename = os.path.join(gibson2.example_config_path, 'turtlebot_demo.yaml')\n",
    "env = iGibsonEnv(config_file=config_filename, mode='headless')\n",
    "state_hist = []\n",
    "reward_hist = []\n",
    "done_hist = []\n",
    "info_hist = []\n",
    "env.reset()\n",
    "for i in range(100):\n",
    "    with Profiler('Environment action step'):\n",
    "        action = env.action_space.sample()\n",
    "        state, reward, done, info = env.step(action)\n",
    "        state_hist.append(state)\n",
    "        reward_hist.append(reward)\n",
    "        done_hist.append(done)\n",
    "        info_hist.append(info)\n",
    "        if done:\n",
    "            logging.info(\n",
    "                \"Episode finished after {} timesteps\".format(i + 1))\n",
    "            break\n",
    "env.close()\n"
   ]
  },
  {
   "cell_type": "code",
   "execution_count": 7,
   "id": "dcc18f85",
   "metadata": {},
   "outputs": [
    {
     "data": {
      "text/plain": [
       "[<matplotlib.lines.Line2D at 0x7fdc75f575c0>]"
      ]
     },
     "execution_count": 7,
     "metadata": {},
     "output_type": "execute_result"
    },
    {
     "data": {
      "image/png": "[encoded data removed]",
      "text/plain": [
       "<Figure size 432x288 with 1 Axes>"
      ]
     },
     "metadata": {
      "needs_background": "light"
     },
     "output_type": "display_data"
    }
   ],
   "source": [
    "import matplotlib.pyplot as plt\n",
    "# visualize the reward\n",
    "plt.figure()\n",
    "plt.plot(reward_hist)"
   ]
  },
  {
   "cell_type": "code",
   "execution_count": 8,
   "id": "b4fd0b81",
   "metadata": {},
   "outputs": [
    {
     "data": {
      "text/plain": [
       "[<matplotlib.lines.Line2D at 0x7fdc75ec3e48>]"
      ]
     },
     "execution_count": 8,
     "metadata": {},
     "output_type": "execute_result"
    },
    {
     "data": {
      "image/png": "[encoded data removed]",
      "text/plain": [
       "<Figure size 432x288 with 1 Axes>"
      ]
     },
     "metadata": {
      "needs_background": "light"
     },
     "output_type": "display_data"
    }
   ],
   "source": [
    "# visualize the done label\n",
    "plt.figure()\n",
    "plt.plot(done_hist)"
   ]
  },
  {
   "cell_type": "code",
   "execution_count": 24,
   "id": "8e01bf68",
   "metadata": {},
   "outputs": [
    {
     "data": {
      "application/vnd.jupyter.widget-view+json": {
       "model_id": "68c264aaa13c4e5ca59628d7bc8093b8",
       "version_major": 2,
       "version_minor": 0
      },
      "text/plain": [
       "interactive(children=(IntSlider(value=49, description='idx', max=99), Output(layout=Layout(height='350px'))), …"
      ]
     },
     "metadata": {},
     "output_type": "display_data"
    }
   ],
   "source": [
    "from ipywidgets import interact, interactive, fixed, interact_manual\n",
    "import ipywidgets as widgets\n",
    "import matplotlib.pyplot as plt\n",
    "from PIL import Image\n",
    "import numpy as np\n",
    "def show_frame(idx):\n",
    "    plt.imshow(((state_hist[idx]['rgb'][:,:,:3] * 255).astype(np.uint8)))\n",
    "\n",
    "interactive_plot = interactive(show_frame, idx=(0,99))\n",
    "output = interactive_plot.children[-1]\n",
    "output.layout.height = '350px'\n",
    "interactive_plot"
   ]
  },
  {
   "cell_type": "code",
   "execution_count": 20,
   "id": "6dde281d",
   "metadata": {},
   "outputs": [
    {
     "data": {
      "application/vnd.jupyter.widget-view+json": {
       "model_id": "1e37089787a5491aa2004d50097bad00",
       "version_major": 2,
       "version_minor": 0
      },
      "text/plain": [
       "interactive(children=(IntSlider(value=49, description='idx', max=99), Output(layout=Layout(height='350px'))), …"
      ]
     },
     "metadata": {},
     "output_type": "display_data"
    }
   ],
   "source": [
    "def show_frame(idx):\n",
    "    plt.imshow(((state_hist[idx]['depth'])))\n",
    "\n",
    "interactive_plot = interactive(show_frame, idx=(0,99))\n",
    "output = interactive_plot.children[-1]\n",
    "output.layout.height = '350px'\n",
    "interactive_plot"
   ]
  },
  {
   "cell_type": "code",
   "execution_count": 22,
   "id": "e7686c25",
   "metadata": {},
   "outputs": [
    {
     "data": {
      "application/vnd.jupyter.widget-view+json": {
       "model_id": "a6da2b4fa52e4dbf8498cbbc23ae704d",
       "version_major": 2,
       "version_minor": 0
      },
      "text/plain": [
       "interactive(children=(IntSlider(value=49, description='idx', max=99), Output(layout=Layout(height='350px'))), …"
      ]
     },
     "metadata": {},
     "output_type": "display_data"
    }
   ],
   "source": [
    "def show_lidar(idx):\n",
    "    plt.plot(((state_hist[idx]['scan'])))\n",
    "\n",
    "interactive_plot = interactive(show_lidar, idx=(0,99))\n",
    "output = interactive_plot.children[-1]\n",
    "output.layout.height = '350px'\n",
    "interactive_plot"
   ]
  },
  {
   "cell_type": "code",
   "execution_count": null,
   "id": "b3c3d676",
   "metadata": {},
   "outputs": [],
   "source": []
  }
 ],
 "metadata": {
  "kernelspec": {
   "display_name": "Python 3",
   "language": "python",
   "name": "python3"
  },
  "language_info": {
   "codemirror_mode": {
    "name": "ipython",
    "version": 3
   },
   "file_extension": ".py",
   "mimetype": "text/x-python",
   "name": "python",
   "nbconvert_exporter": "python",
   "pygments_lexer": "ipython3",
   "version": "3.6.8"
  }
 },
 "nbformat": 4,
 "nbformat_minor": 5
}
